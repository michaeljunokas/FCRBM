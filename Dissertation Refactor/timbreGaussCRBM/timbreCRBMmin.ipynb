{
 "cells": [
  {
   "cell_type": "code",
   "execution_count": null,
   "id": "55ae4870-283b-4cd9-b9a6-3728d72c32df",
   "metadata": {},
   "outputs": [],
   "source": [
    "#create synthetic audio signals \n",
    "\n",
    "import numpy as np\n",
    "import scipy.signal as signal\n",
    "\n",
    "Fs = 44100\n",
    "t = np.arange(0, Fs * 1 + 1) / Fs\n",
    "w = 2\n",
    "\n",
    "# Pulse train generation\n",
    "def pulse_train(t, delay_vector, width):\n",
    "    return np.sum([signal.square(2 * np.pi * (1/width) * (t - d)) for d in delay_vector], axis=0)\n",
    "\n",
    "d1 = np.arange(w/2, Fs*2, w*210)\n",
    "rect_pulse_train = pulse_train(t, d1, w)\n",
    "\n",
    "s1 = np.sin(2 * np.pi * 300 * t)\n",
    "s2 = signal.sawtooth(2 * np.pi * 200 * t)\n",
    "s3 = np.sin(2 * np.pi * 500 * t)\n",
    "s4 = signal.sawtooth(2 * np.pi * 150 * t, 0.5)\n",
    "\n",
    "# Simulate FM using chirps (approximation)\n",
    "x = signal.chirp(t, f0=300, f1=475, t1=1, method='linear')\n",
    "x2 = signal.chirp(t, f0=200, f1=345, t1=1, method='linear')\n",
    "x3 = signal.chirp(t, f0=500, f1=613, t1=1, method='linear')\n",
    "x4 = signal.chirp(t, f0=150, f1=300, t1=1, method='linear')\n",
    "\n",
    "s1 = np.sin(2 * np.pi * 300 * t)\n",
    "s2 = signal.sawtooth(2 * np.pi * 200 * t)\n",
    "s3 = np.sin(2 * np.pi * 500 * t)\n",
    "s4 = signal.sawtooth(2 * np.pi * 150 * t, 0.5)\n",
    "\n",
    "# Simulate FM using chirps (approximation)\n",
    "x = signal.chirp(t, f0=300, f1=475, t1=1, method='linear')\n",
    "x2 = signal.chirp(t, f0=200, f1=345, t1=1, method='linear')\n",
    "x3 = signal.chirp(t, f0=500, f1=613, t1=1, method='linear')\n",
    "x4 = signal.chirp(t, f0=150, f1=300, t1=1, method='linear')\n",
    "\n"
   ]
  },
  {
   "cell_type": "code",
   "execution_count": null,
   "id": "85f7653b-e2ff-4fd3-8c32-41d4b0039e0c",
   "metadata": {},
   "outputs": [],
   "source": [
    "# convert time to freq and normalize\n",
    "\n",
    "import librosa\n",
    "\n",
    "FFTwindow = 2000\n",
    "hop = FFTwindow\n",
    "\n",
    "def compute_stft(sig):\n",
    "    return np.abs(librosa.stft(sig, n_fft=FFTwindow, hop_length=hop, window='hann')).T\n",
    "\n",
    "combo1 = np.tile(np.concatenate([x[:2000], x[:2000]]), 20)\n",
    "combo2 = np.tile(np.concatenate([x3[:4000], x4[:4000]]), 10)\n",
    "\n",
    "COMBO1 = compute_stft(combo1)\n",
    "COMBO2 = compute_stft(combo2)\n",
    "\n",
    "data = np.concatenate([COMBO1, COMBO2], axis=0)\n",
    "mean = np.mean(data, axis=0)\n",
    "std = np.std(data, axis=0)\n",
    "norm_data = (data - mean) / std\n"
   ]
  },
  {
   "cell_type": "code",
   "execution_count": null,
   "id": "0df69436-ed56-444b-9acf-771e2255d5e7",
   "metadata": {},
   "outputs": [],
   "source": [
    "# define autoencoder\n",
    "\n",
    "import tensorflow as tf\n",
    "from tensorflow.keras import layers, models\n",
    "\n",
    "visible_dim = norm_data.shape[1]\n",
    "hidden_dim = 2\n",
    "\n",
    "# train\n",
    "\n",
    "input_layer = layers.Input(shape=(visible_dim,))\n",
    "encoded = layers.Dense(hidden_dim, activation='sigmoid')(input_layer)\n",
    "decoded = layers.Dense(visible_dim, activation='sigmoid')(encoded)\n",
    "\n",
    "autoencoder = models.Model(input_layer, decoded)\n",
    "autoencoder.compile(optimizer='adam', loss='mse')\n",
    "autoencoder.fit(norm_data, norm_data, epochs=10, batch_size=32)\n"
   ]
  },
  {
   "cell_type": "code",
   "execution_count": null,
   "id": "28d756d1-ea95-42c0-97af-46838877018b",
   "metadata": {},
   "outputs": [],
   "source": [
    "# generate data\n",
    "generated = autoencoder.predict(norm_data[0:1])\n",
    "generated_denorm = generated * std + mean\n",
    "generated_audio = librosa.istft(generated_denorm.T, hop_length=hop, window='hann')\n",
    "\n",
    "import soundfile as sf\n",
    "sf.write(\"generated_audio.wav\", generated_audio, Fs)\n"
   ]
  }
 ],
 "metadata": {
  "kernelspec": {
   "display_name": "playground",
   "language": "python",
   "name": "playground"
  },
  "language_info": {
   "codemirror_mode": {
    "name": "ipython",
    "version": 3
   },
   "file_extension": ".py",
   "mimetype": "text/x-python",
   "name": "python",
   "nbconvert_exporter": "python",
   "pygments_lexer": "ipython3",
   "version": "3.12.4"
  }
 },
 "nbformat": 4,
 "nbformat_minor": 5
}
