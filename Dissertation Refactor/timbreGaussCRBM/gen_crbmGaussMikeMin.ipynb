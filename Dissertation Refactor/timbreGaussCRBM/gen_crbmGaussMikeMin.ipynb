{
 "cells": [
  {
   "cell_type": "code",
   "execution_count": null,
   "id": "e172b96e-569e-451b-a9e6-7b1fba48da59",
   "metadata": {},
   "outputs": [],
   "source": [
    "# starting refactor of MATLAB\n",
    "import numpy as np\n",
    "\n",
    "def sigmoid(x):\n",
    "    return 1 / (1 + np.exp(-x))\n",
    "\n",
    "def gen_crbm_gauss_mike_min(CRBM, InitData, numframes, fr):\n",
    "    numGibbs = 30\n",
    "    numdims = InitData.shape[1]\n",
    "\n",
    "    # Initialize visible and hidden layers\n",
    "    visible = np.zeros((numframes, CRBM['numdims']))\n",
    "    visible[:CRBM['order'], :] = InitData[fr:fr + CRBM['order'], :]\n",
    "\n",
    "    hidden = np.ones((numframes, CRBM['numhid']))\n",
    "\n",
    "    for tt in range(CRBM['order'], numframes):\n",
    "        # Initialize with noise\n",
    "        visible[tt, :] = visible[tt - 1, :] + 0.0001 * np.random.randn(numdims)\n",
    "\n",
    "        # Compute dynamic biases\n",
    "        bistar = np.zeros((numdims, 1))\n",
    "        for hh in range(CRBM['order']):\n",
    "            bistar += CRBM['model']['A'][:, :, hh] @ visible[tt - hh, :].reshape(-1, 1)\n",
    "\n",
    "        bjstar = np.zeros((CRBM['numhid'], 1))\n",
    "        for hh in range(CRBM['order']):\n",
    "            bjstar += CRBM['model']['B'][:, :, hh] @ visible[tt - hh, :].reshape(-1, 1)\n",
    "\n",
    "        # Gibbs sampling\n",
    "        for _ in range(numGibbs):\n",
    "            bottomup = CRBM['model']['w'] @ visible[tt, :].reshape(-1, 1)\n",
    "            eta = (bottomup / CRBM['gsd']) + CRBM['model']['bj'] + bjstar\n",
    "            hposteriors = sigmoid(eta)\n",
    "\n",
    "            hidden[tt, :] = (hposteriors.T > np.random.rand(1, CRBM['numhid'])).astype(float)\n",
    "\n",
    "            topdown = CRBM['gsd'] * (hidden[tt, :] @ CRBM['model']['w'])\n",
    "            visible[tt, :] = topdown + CRBM['model']['bi'].T + bistar.T\n",
    "\n",
    "        # Final mean-field approximation\n",
    "        topdown = CRBM['gsd'] * (hposteriors.T @ CRBM['model']['w'])\n",
    "        visible[tt, :] = topdown + CRBM['model']['bi'].T + bistar.T\n",
    "\n",
    "    return {\n",
    "        'visible': visible,\n",
    "        'hidden': hidden\n",
    "    }\n"
   ]
  },
  {
   "cell_type": "code",
   "execution_count": null,
   "id": "3808cd51-3baf-4dac-8890-0afec0e22df1",
   "metadata": {},
   "outputs": [],
   "source": []
  }
 ],
 "metadata": {
  "kernelspec": {
   "display_name": "FCRBM",
   "language": "python",
   "name": "fcrbm"
  },
  "language_info": {
   "codemirror_mode": {
    "name": "ipython",
    "version": 3
   },
   "file_extension": ".py",
   "mimetype": "text/x-python",
   "name": "python",
   "nbconvert_exporter": "python",
   "pygments_lexer": "ipython3",
   "version": "3.9.6"
  }
 },
 "nbformat": 4,
 "nbformat_minor": 5
}
