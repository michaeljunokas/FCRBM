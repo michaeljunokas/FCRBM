{
 "cells": [
  {
   "cell_type": "code",
   "execution_count": 1,
   "id": "c9f5035c-e1e2-429a-90b2-7a5b96cf6348",
   "metadata": {},
   "outputs": [
    {
     "name": "stderr",
     "output_type": "stream",
     "text": [
      "2025-08-04 11:39:38.281785: I tensorflow/core/platform/cpu_feature_guard.cc:210] This TensorFlow binary is optimized to use available CPU instructions in performance-critical operations.\n",
      "To enable the following instructions: AVX2 FMA, in other operations, rebuild TensorFlow with the appropriate compiler flags.\n",
      "/Users/mikej/Documents/FCRBM/FCRBM_sandbox/lib/python3.9/site-packages/urllib3/__init__.py:35: NotOpenSSLWarning: urllib3 v2 only supports OpenSSL 1.1.1+, currently the 'ssl' module is compiled with 'LibreSSL 2.8.3'. See: https://github.com/urllib3/urllib3/issues/3020\n",
      "  warnings.warn(\n"
     ]
    }
   ],
   "source": [
    "from fcrbm_utilities import FCRBM, spectrogram_to_audio, process_audio_files"
   ]
  },
  {
   "cell_type": "code",
   "execution_count": 2,
   "id": "60fc5f40-a528-430a-b287-da8c31acdd48",
   "metadata": {},
   "outputs": [],
   "source": [
    "import os\n",
    "import librosa\n",
    "import numpy as np\n",
    "import tensorflow as tf"
   ]
  },
  {
   "cell_type": "code",
   "execution_count": 7,
   "id": "4184cbdb-3d49-4df3-b001-2c91aaefeb49",
   "metadata": {},
   "outputs": [
    {
     "name": "stdout",
     "output_type": "stream",
     "text": [
      "Data successfully loaded and preprocessed! ✅\n",
      "Visible data (spectrogram frames) shape: (13644, 1025)\n",
      "History data (previous frames) shape: (13644, 1025)\n",
      "Style data (one-hot vectors) shape: (13644, 9)\n",
      "Visible layer dimension: 1025\n",
      "Number of distinct styles (style_dim): 9\n"
     ]
    },
    {
     "name": "stderr",
     "output_type": "stream",
     "text": [
      "/Users/mikej/Documents/FCRBM/FCRBM_sandbox/lib/python3.9/site-packages/librosa/core/spectrum.py:266: UserWarning: n_fft=2048 is too large for input signal of length=0\n",
      "  warnings.warn(\n"
     ]
    }
   ],
   "source": [
    "# ingest and process audio samples\n",
    "\n",
    "audio_sample_dir = 'data/audio_segments/'\n",
    "\n",
    "# define FFT parameters\n",
    "n_fft = 2048\n",
    "hop = 512\n",
    "sr = 44100\n",
    "\n",
    "# process audio\n",
    "\n",
    "spectrogram_data_np, style_data_np, visible_dim = process_audio_files(audio_sample_dir, n_fft, hop, sr)\n",
    "\n",
    "# Prepare history data (the previous spectrogram frame)\n",
    "history_data_np = np.roll(spectrogram_data_np, shift=1, axis=0)\n",
    "history_data_np[0] = 0 # The first frame has no previous frame, so its history is zero.\n",
    "\n",
    "# Convert to TensorFlow tensors\n",
    "v_data = tf.constant(spectrogram_data_np, dtype=tf.float32)\n",
    "u_data = tf.constant(history_data_np, dtype=tf.float32)\n",
    "y_data = tf.constant(style_data_np, dtype=tf.float32)\n",
    "\n",
    "# Print the shapes to verify everything is correct\n",
    "print(\"Data successfully loaded and preprocessed! ✅\")\n",
    "print(f\"Visible data (spectrogram frames) shape: {v_data.shape}\")\n",
    "print(f\"History data (previous frames) shape: {u_data.shape}\")\n",
    "print(f\"Style data (one-hot vectors) shape: {y_data.shape}\")\n",
    "print(f\"Visible layer dimension: {visible_dim}\")\n",
    "print(f\"Number of distinct styles (style_dim): {y_data.shape[1]}\")"
   ]
  },
  {
   "cell_type": "code",
   "execution_count": 12,
   "id": "f3e8afc9-fd6c-49ff-af92-6c2598cd1141",
   "metadata": {},
   "outputs": [],
   "source": [
    "# match parameters defined in audio processing\n",
    "\n",
    "visible_dim = int((n_fft / 2) + 1)\n",
    "hidden_dim = 100\n",
    "style_dim = 9 # number of segments we are trying to learn\n",
    "history_dim = visible_dim # the autoregressive data\n",
    "\n",
    "learning_rate = 0.001\n",
    "epochs = 5\n",
    "batch_size = 64\n",
    "\n",
    "#instatiate FCRBM with correct parameters eventually\n",
    "\n",
    "fcrbm = FCRBM(\n",
    "    visible_dim=visible_dim,\n",
    "    hidden_dim=hidden_dim,\n",
    "    style_dim=style_dim,\n",
    "    history_dim=visible_dim,\n",
    "    k=1\n",
    ")\n",
    "\n",
    "optimizer = tf.keras.optimizers.Adam(learning_rate=learning_rate)\n"
   ]
  },
  {
   "cell_type": "code",
   "execution_count": 14,
   "id": "9ef20e5f-2f23-47fc-b76e-500d43c3f1dd",
   "metadata": {},
   "outputs": [],
   "source": [
    "# v_data (spectrogram frames), u_data (history), y_data (style)\n",
    "\n",
    "# create a TensorFlow Dataset from the tensors\n",
    "dataset = tf.data.Dataset.from_tensor_slices((v_data, u_data, y_data)).shuffle(buffer_size=1000).batch(batch_size)"
   ]
  },
  {
   "cell_type": "code",
   "execution_count": 15,
   "id": "1d325296-0761-4331-bb73-15c2bbaf84b7",
   "metadata": {},
   "outputs": [
    {
     "name": "stderr",
     "output_type": "stream",
     "text": [
      "2025-08-04 11:59:05.105751: W tensorflow/core/framework/local_rendezvous.cc:404] Local rendezvous is aborting with status: OUT_OF_RANGE: End of sequence\n"
     ]
    },
    {
     "name": "stdout",
     "output_type": "stream",
     "text": [
      "Epoch 1/5, Loss: 132.1753\n"
     ]
    },
    {
     "name": "stderr",
     "output_type": "stream",
     "text": [
      "2025-08-04 11:59:16.627233: W tensorflow/core/framework/local_rendezvous.cc:404] Local rendezvous is aborting with status: OUT_OF_RANGE: End of sequence\n"
     ]
    },
    {
     "name": "stdout",
     "output_type": "stream",
     "text": [
      "Epoch 2/5, Loss: 392.6080\n"
     ]
    },
    {
     "name": "stderr",
     "output_type": "stream",
     "text": [
      "2025-08-04 11:59:28.889370: W tensorflow/core/framework/local_rendezvous.cc:404] Local rendezvous is aborting with status: OUT_OF_RANGE: End of sequence\n"
     ]
    },
    {
     "name": "stdout",
     "output_type": "stream",
     "text": [
      "Epoch 3/5, Loss: 953.6532\n"
     ]
    },
    {
     "name": "stderr",
     "output_type": "stream",
     "text": [
      "2025-08-04 11:59:40.316318: W tensorflow/core/framework/local_rendezvous.cc:404] Local rendezvous is aborting with status: OUT_OF_RANGE: End of sequence\n"
     ]
    },
    {
     "name": "stdout",
     "output_type": "stream",
     "text": [
      "Epoch 4/5, Loss: 1794.4773\n",
      "Epoch 5/5, Loss: 2866.2771\n"
     ]
    },
    {
     "name": "stderr",
     "output_type": "stream",
     "text": [
      "2025-08-04 11:59:53.418748: W tensorflow/core/framework/local_rendezvous.cc:404] Local rendezvous is aborting with status: OUT_OF_RANGE: End of sequence\n"
     ]
    }
   ],
   "source": [
    "# training\n",
    "for epoch in range(epochs):\n",
    "    epoch_loss = 0\n",
    "    num_batches = 0\n",
    "    \n",
    "    # iterate over the dataset in batches\n",
    "    for v_batch, u_batch, y_batch in dataset:\n",
    "        # Feed the batched data into the custom train_step method\n",
    "        loss = fcrbm.train_step(v_batch, u_batch, y_batch, optimizer)\n",
    "        epoch_loss += loss.numpy()\n",
    "        num_batches += 1\n",
    "    if num_batches > 0:\n",
    "        print(f\"Epoch {epoch+1}/{epochs}, Loss: {epoch_loss / num_batches:.4f}\")"
   ]
  },
  {
   "cell_type": "code",
   "execution_count": null,
   "id": "d6e24dba-a0d8-429b-a8ab-dd190346d6a8",
   "metadata": {},
   "outputs": [],
   "source": []
  }
 ],
 "metadata": {
  "kernelspec": {
   "display_name": "FCRBM",
   "language": "python",
   "name": "fcrbm"
  },
  "language_info": {
   "codemirror_mode": {
    "name": "ipython",
    "version": 3
   },
   "file_extension": ".py",
   "mimetype": "text/x-python",
   "name": "python",
   "nbconvert_exporter": "python",
   "pygments_lexer": "ipython3",
   "version": "3.9.6"
  }
 },
 "nbformat": 4,
 "nbformat_minor": 5
}
