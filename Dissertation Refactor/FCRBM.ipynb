{
 "cells": [
  {
   "cell_type": "code",
   "execution_count": 2,
   "id": "c9f5035c-e1e2-429a-90b2-7a5b96cf6348",
   "metadata": {},
   "outputs": [
    {
     "name": "stderr",
     "output_type": "stream",
     "text": [
      "2025-08-05 10:38:58.634378: I tensorflow/core/platform/cpu_feature_guard.cc:210] This TensorFlow binary is optimized to use available CPU instructions in performance-critical operations.\n",
      "To enable the following instructions: AVX2 FMA, in other operations, rebuild TensorFlow with the appropriate compiler flags.\n",
      "/Users/mikej/Documents/FCRBM/FCRBM_sandbox/lib/python3.9/site-packages/urllib3/__init__.py:35: NotOpenSSLWarning: urllib3 v2 only supports OpenSSL 1.1.1+, currently the 'ssl' module is compiled with 'LibreSSL 2.8.3'. See: https://github.com/urllib3/urllib3/issues/3020\n",
      "  warnings.warn(\n"
     ]
    }
   ],
   "source": [
    "from fcrbm_utilities import FCRBM, spectrogram_to_audio, process_audio_files, synthesize_audio"
   ]
  },
  {
   "cell_type": "code",
   "execution_count": 3,
   "id": "60fc5f40-a528-430a-b287-da8c31acdd48",
   "metadata": {},
   "outputs": [],
   "source": [
    "import os\n",
    "import librosa\n",
    "import numpy as np\n",
    "import tensorflow as tf"
   ]
  },
  {
   "cell_type": "code",
   "execution_count": 4,
   "id": "4184cbdb-3d49-4df3-b001-2c91aaefeb49",
   "metadata": {},
   "outputs": [
    {
     "name": "stdout",
     "output_type": "stream",
     "text": [
      "Warning: Expected 9 audio files, but found 8. Proceeding anyway.\n",
      "Data successfully loaded and preprocessed! ✅\n",
      "Visible data (spectrogram frames) shape: (12128, 1025)\n",
      "History data (previous frames) shape: (12128, 1025)\n",
      "Style data (one-hot vectors) shape: (12128, 8)\n",
      "Visible layer dimension: 1025\n",
      "Number of distinct styles (style_dim): 8\n"
     ]
    }
   ],
   "source": [
    "# ingest and process audio samples\n",
    "\n",
    "audio_sample_dir = 'data/fcrbm_audio_segments/'\n",
    "\n",
    "# define FFT parameters\n",
    "n_fft = 2048\n",
    "hop = 512\n",
    "sr = 44100\n",
    "\n",
    "# process audio\n",
    "\n",
    "spectrogram_data_np, style_data_np, visible_dim = process_audio_files(audio_sample_dir, n_fft, hop, sr)\n",
    "\n",
    "# Prepare history data (the previous spectrogram frame)\n",
    "history_data_np = np.roll(spectrogram_data_np, shift=1, axis=0)\n",
    "history_data_np[0] = 0 # The first frame has no previous frame, so its history is zero.\n",
    "\n",
    "# Convert to TensorFlow tensors\n",
    "v_data = tf.constant(spectrogram_data_np, dtype=tf.float32)\n",
    "u_data = tf.constant(history_data_np, dtype=tf.float32)\n",
    "y_data = tf.constant(style_data_np, dtype=tf.float32)\n",
    "\n",
    "# Print the shapes to verify everything is correct\n",
    "print(\"Data successfully loaded and preprocessed! ✅\")\n",
    "print(f\"Visible data (spectrogram frames) shape: {v_data.shape}\")\n",
    "print(f\"History data (previous frames) shape: {u_data.shape}\")\n",
    "print(f\"Style data (one-hot vectors) shape: {y_data.shape}\")\n",
    "print(f\"Visible layer dimension: {visible_dim}\")\n",
    "print(f\"Number of distinct styles (style_dim): {y_data.shape[1]}\")"
   ]
  },
  {
   "cell_type": "code",
   "execution_count": 18,
   "id": "38338838-d266-4d66-84ae-c5e7902585f8",
   "metadata": {},
   "outputs": [],
   "source": [
    "# Assuming spectrogram_data_np is your preprocessed numpy array\n",
    "spectrogram_mean = np.mean(spectrogram_data_np)\n",
    "spectrogram_std = np.std(spectrogram_data_np)\n",
    "v_data_normalized = (spectrogram_data_np - spectrogram_mean) / (spectrogram_std + 1e-8)\n",
    "\n",
    "# Convert the normalized data to a TensorFlow tensor\n",
    "v_data = tf.constant(v_data_normalized, dtype=tf.float32)\n",
    "\n",
    "# Calculate mean and standard deviation for the history data\n",
    "u_data_mean = np.mean(history_data_np)\n",
    "u_data_std = np.std(history_data_np)\n",
    "u_data_normalized = (history_data_np - u_data_mean) / (u_data_std + 1e-8)\n",
    "\n",
    "u_data = tf.constant(u_data_normalized, dtype=tf.float32)\n"
   ]
  },
  {
   "cell_type": "code",
   "execution_count": 25,
   "id": "f3e8afc9-fd6c-49ff-af92-6c2598cd1141",
   "metadata": {},
   "outputs": [],
   "source": [
    "# match parameters defined in audio processing\n",
    "\n",
    "visible_dim = int((n_fft / 2) + 1)\n",
    "hidden_dim = 100\n",
    "style_dim = 8 # number of segments we are trying to learn\n",
    "history_dim = visible_dim # the autoregressive data\n",
    "\n",
    "learning_rate = 0.0000001\n",
    "epochs = 5\n",
    "batch_size = 128\n",
    "\n",
    "#instatiate FCRBM with correct parameters eventually\n",
    "\n",
    "fcrbm = FCRBM(\n",
    "    visible_dim=visible_dim,\n",
    "    hidden_dim=hidden_dim,\n",
    "    style_dim=style_dim,\n",
    "    history_dim=visible_dim,\n",
    "    k=3\n",
    ")\n",
    "\n",
    "optimizer = tf.keras.optimizers.Adam(learning_rate=learning_rate)\n"
   ]
  },
  {
   "cell_type": "code",
   "execution_count": 26,
   "id": "9ef20e5f-2f23-47fc-b76e-500d43c3f1dd",
   "metadata": {},
   "outputs": [],
   "source": [
    "# v_data (spectrogram frames), u_data (history), y_data (style)\n",
    "\n",
    "# create a TensorFlow Dataset from the tensors\n",
    "# dataset = tf.data.Dataset.from_tensor_slices((v_data, u_data, y_data)).shuffle(buffer_size=1000).batch(batch_size)"
   ]
  },
  {
   "cell_type": "code",
   "execution_count": 27,
   "id": "f870dfc3-99c5-4d27-ba96-c635aed781e7",
   "metadata": {
    "scrolled": true
   },
   "outputs": [
    {
     "name": "stdout",
     "output_type": "stream",
     "text": [
      "Epoch 1/5, Loss: 1.1282\n",
      "Epoch 2/5, Loss: 1.1099\n",
      "Epoch 3/5, Loss: 1.1228\n",
      "Epoch 4/5, Loss: 1.0971\n",
      "Epoch 5/5, Loss: 1.0782\n"
     ]
    }
   ],
   "source": [
    "# Create a repeatable dataset\n",
    "dataset = tf.data.Dataset.from_tensor_slices((v_data, u_data, y_data)).shuffle(buffer_size=12128).batch(batch_size).repeat()\n",
    "\n",
    "# Set the number of steps per epoch\n",
    "steps_per_epoch = 12128 // batch_size\n",
    "\n",
    "# Training loop\n",
    "for epoch in range(epochs):\n",
    "    epoch_loss = 0\n",
    "    # Iterate for a fixed number of steps\n",
    "    for step in range(steps_per_epoch):\n",
    "        v_batch, u_batch, y_batch = next(iter(dataset)) # Manually get the next batch\n",
    "        loss = fcrbm.train_step(v_batch, u_batch, y_batch, optimizer)\n",
    "        epoch_loss += loss.numpy()\n",
    "        \n",
    "    print(f\"Epoch {epoch+1}/{epochs}, Loss: {epoch_loss / steps_per_epoch:.4f}\")"
   ]
  },
  {
   "cell_type": "code",
   "execution_count": null,
   "id": "d6e24dba-a0d8-429b-a8ab-dd190346d6a8",
   "metadata": {},
   "outputs": [],
   "source": [
    "# data variables:\n",
    "# fcrbm (the trained model)\n",
    "# v_data, u_data, y_data (from your original training data)\n",
    "# n_fft, hop_length, sr (your STFT parameters)\n",
    "\n",
    "# get a seed from your training data; ensures the generated audio has a coherent start.\n",
    "seed_index = 100 # Choose a random frame from your dataset... potentially doesn't have to be random, potentially targetted\n",
    "u_seed = v_data[seed_index]\n",
    "\n",
    "# choose a style from your dataset. for 9 styles, this would be a one-hot vector, e.g., [0, 0, 1, 0, 0, 0, 0, 0, 0].\n",
    "style_index = 2 # generate in the style of the 3rd audio file.\n",
    "style_dim = 9\n",
    "y_seed = tf.one_hot(style_index, depth=style_dim, dtype=tf.float32)\n",
    "\n",
    "# --- Generate a new audio waveform ---\n",
    "print(\"Synthesizing new audio...\")\n",
    "new_audio_waveform = synthesize_audio(\n",
    "    model=fcrbm,\n",
    "    u_seed=u_seed,\n",
    "    y_seed=y_seed,\n",
    "    num_frames_to_generate=500, # Number of frames to generate\n",
    "    n_fft=n_fft,\n",
    "    hop_length=hop_length,\n",
    "    sr=sr\n",
    ")\n",
    "print(\"Synthesis complete!\")\n",
    "\n",
    "# Save the generated audio to a file.\n",
    "librosa.output.write_wav('generated_audio_style_2.wav', new_audio_waveform, sr)\n",
    "print(\"Audio saved as 'generated_audio_style_2.wav'\")"
   ]
  }
 ],
 "metadata": {
  "kernelspec": {
   "display_name": "FCRBM",
   "language": "python",
   "name": "fcrbm"
  },
  "language_info": {
   "codemirror_mode": {
    "name": "ipython",
    "version": 3
   },
   "file_extension": ".py",
   "mimetype": "text/x-python",
   "name": "python",
   "nbconvert_exporter": "python",
   "pygments_lexer": "ipython3",
   "version": "3.9.6"
  }
 },
 "nbformat": 4,
 "nbformat_minor": 5
}
