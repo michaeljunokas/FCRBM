{
 "cells": [
  {
   "cell_type": "code",
   "execution_count": 2,
   "id": "c9f5035c-e1e2-429a-90b2-7a5b96cf6348",
   "metadata": {},
   "outputs": [
    {
     "name": "stderr",
     "output_type": "stream",
     "text": [
      "2025-08-04 11:21:28.002887: I tensorflow/core/platform/cpu_feature_guard.cc:210] This TensorFlow binary is optimized to use available CPU instructions in performance-critical operations.\n",
      "To enable the following instructions: AVX2 FMA, in other operations, rebuild TensorFlow with the appropriate compiler flags.\n",
      "/Users/mikej/Documents/FCRBM/FCRBM_sandbox/lib/python3.9/site-packages/urllib3/__init__.py:35: NotOpenSSLWarning: urllib3 v2 only supports OpenSSL 1.1.1+, currently the 'ssl' module is compiled with 'LibreSSL 2.8.3'. See: https://github.com/urllib3/urllib3/issues/3020\n",
      "  warnings.warn(\n"
     ]
    }
   ],
   "source": [
    "from fcrbm_utilities import FCRBM, spectrogram_to_audio"
   ]
  },
  {
   "cell_type": "code",
   "execution_count": 3,
   "id": "60fc5f40-a528-430a-b287-da8c31acdd48",
   "metadata": {},
   "outputs": [],
   "source": [
    "import os\n",
    "import librosa\n",
    "import numpy as np\n",
    "import tensorflow as tf"
   ]
  },
  {
   "cell_type": "code",
   "execution_count": 4,
   "id": "f3e8afc9-fd6c-49ff-af92-6c2598cd1141",
   "metadata": {},
   "outputs": [
    {
     "ename": "NameError",
     "evalue": "name 'visible_dim' is not defined",
     "output_type": "error",
     "traceback": [
      "\u001b[0;31m---------------------------------------------------------------------------\u001b[0m",
      "\u001b[0;31mNameError\u001b[0m                                 Traceback (most recent call last)",
      "Cell \u001b[0;32mIn[4], line 2\u001b[0m\n\u001b[1;32m      1\u001b[0m fcrbm \u001b[38;5;241m=\u001b[39m FCRBM(\n\u001b[0;32m----> 2\u001b[0m     visible_dim\u001b[38;5;241m=\u001b[39m\u001b[43mvisible_dim\u001b[49m,\n\u001b[1;32m      3\u001b[0m     hidden_dim\u001b[38;5;241m=\u001b[39mhidden_dim,\n\u001b[1;32m      4\u001b[0m     style_dim\u001b[38;5;241m=\u001b[39mstyle_dim,\n\u001b[1;32m      5\u001b[0m     history_dim\u001b[38;5;241m=\u001b[39mvisible_dim,\n\u001b[1;32m      6\u001b[0m     k\u001b[38;5;241m=\u001b[39m\u001b[38;5;241m1\u001b[39m\n\u001b[1;32m      7\u001b[0m )\n",
      "\u001b[0;31mNameError\u001b[0m: name 'visible_dim' is not defined"
     ]
    }
   ],
   "source": [
    "#need to add audio pre-processing, ingestion, and labeling\n",
    "\n",
    "#instatiate FCRBM with correct parameters eventually\n",
    "\n",
    "fcrbm = FCRBM(\n",
    "    visible_dim=visible_dim,\n",
    "    hidden_dim=hidden_dim,\n",
    "    style_dim=style_dim,\n",
    "    history_dim=visible_dim,\n",
    "    k=1\n",
    ")"
   ]
  },
  {
   "cell_type": "code",
   "execution_count": null,
   "id": "1d325296-0761-4331-bb73-15c2bbaf84b7",
   "metadata": {},
   "outputs": [],
   "source": []
  }
 ],
 "metadata": {
  "kernelspec": {
   "display_name": "FCRBM",
   "language": "python",
   "name": "fcrbm"
  },
  "language_info": {
   "codemirror_mode": {
    "name": "ipython",
    "version": 3
   },
   "file_extension": ".py",
   "mimetype": "text/x-python",
   "name": "python",
   "nbconvert_exporter": "python",
   "pygments_lexer": "ipython3",
   "version": "3.9.6"
  }
 },
 "nbformat": 4,
 "nbformat_minor": 5
}
