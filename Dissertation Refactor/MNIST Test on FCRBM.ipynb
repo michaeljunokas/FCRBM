{
 "cells": [
  {
   "cell_type": "code",
   "execution_count": 8,
   "id": "aa3631e9-3086-48e5-96d7-9d16dd7ab548",
   "metadata": {},
   "outputs": [
    {
     "name": "stdout",
     "output_type": "stream",
     "text": [
      "MNIST data successfully loaded and preprocessed! ✅\n",
      "Visible data (flattened images) shape: (60000, 784)\n",
      "History data (zero-filled) shape: (60000, 784)\n",
      "Style data (one-hot vectors) shape: (60000, 10)\n"
     ]
    }
   ],
   "source": [
    "import tensorflow as tf\n",
    "import numpy as np\n",
    "from fcrbm_utilities import FCRBM\n",
    "\n",
    "(x_train, y_train), (x_test, y_test) = tf.keras.datasets.mnist.load_data()\n",
    "\n",
    "# Flatten the images from (28, 28) to a vector of 784 and normalize\n",
    "# The RBM expects a flattened vector, not a 2D image\n",
    "x_train = x_train.reshape(-1, 784).astype('float32') / 255.0\n",
    "\n",
    "# One-hot encode the labels\n",
    "# There are 10 classes (0-9) so the style dimension will be 10\n",
    "y_train_one_hot = tf.keras.utils.to_categorical(y_train, num_classes=10)\n",
    "\n",
    "\n",
    "v_data = tf.constant(x_train, dtype=tf.float32)\n",
    "y_data = tf.constant(y_train_one_hot, dtype=tf.float32)\n",
    "u_data = tf.zeros_like(v_data, dtype=tf.float32)\n",
    "\n",
    "# Print the shapes to verify\n",
    "print(\"MNIST data successfully loaded and preprocessed! ✅\")\n",
    "print(f\"Visible data (flattened images) shape: {v_data.shape}\")\n",
    "print(f\"History data (zero-filled) shape: {u_data.shape}\")\n",
    "print(f\"Style data (one-hot vectors) shape: {y_data.shape}\")"
   ]
  },
  {
   "cell_type": "code",
   "execution_count": 4,
   "id": "f7f61597-1765-4726-846f-50ecd633b1df",
   "metadata": {},
   "outputs": [],
   "source": [
    "# The visible dimension is the size of the flattened image (28 * 28)\n",
    "visible_dim = 784\n",
    "\n",
    "# The hidden dimension can be tuned, but 100 is a good starting point\n",
    "hidden_dim = 100\n",
    "\n",
    "# The style dimension is the number of classes (0-9)\n",
    "style_dim = 10\n",
    "\n",
    "# The history dimension matches the visible dimension\n",
    "history_dim = visible_dim\n",
    "\n",
    "# Set your training parameters\n",
    "learning_rate = 0.00001 # A small learning rate is still crucial\n",
    "epochs = 5\n",
    "batch_size = 128"
   ]
  },
  {
   "cell_type": "code",
   "execution_count": 5,
   "id": "e74f09dd-b13e-471d-91f1-8ae024ba0fee",
   "metadata": {},
   "outputs": [
    {
     "name": "stdout",
     "output_type": "stream",
     "text": [
      "Epoch 1/5, Loss: 0.1519\n",
      "Epoch 2/5, Loss: 0.1913\n",
      "Epoch 3/5, Loss: 0.1916\n",
      "Epoch 4/5, Loss: 0.1832\n",
      "Epoch 5/5, Loss: 0.1746\n"
     ]
    }
   ],
   "source": [
    "# Instantiate the FCRBM with the new parameters\n",
    "fcrbm = FCRBM(\n",
    "    visible_dim=visible_dim,\n",
    "    hidden_dim=hidden_dim,\n",
    "    style_dim=style_dim,\n",
    "    history_dim=visible_dim,\n",
    "    k=1\n",
    ")\n",
    "\n",
    "# Initialize the optimizer\n",
    "optimizer = tf.keras.optimizers.Adam(learning_rate=learning_rate)\n",
    "\n",
    "# Create a repeatable dataset from the MNIST tensors\n",
    "num_total_samples = v_data.shape[0]\n",
    "dataset = tf.data.Dataset.from_tensor_slices((v_data, u_data, y_data)).shuffle(buffer_size=num_total_samples).batch(batch_size).repeat()\n",
    "\n",
    "# Set the number of steps per epoch\n",
    "steps_per_epoch = num_total_samples // batch_size\n",
    "\n",
    "# Training loop\n",
    "for epoch in range(epochs):\n",
    "    epoch_loss = 0\n",
    "    # Iterate for a fixed number of steps\n",
    "    for step in range(steps_per_epoch):\n",
    "        v_batch, u_batch, y_batch = next(iter(dataset))\n",
    "        loss = fcrbm.train_step(v_batch, u_batch, y_batch, optimizer)\n",
    "        epoch_loss += loss.numpy()\n",
    "        \n",
    "    print(f\"Epoch {epoch+1}/{epochs}, Loss: {epoch_loss / steps_per_epoch:.4f}\")"
   ]
  },
  {
   "cell_type": "code",
   "execution_count": 9,
   "id": "742d8e1c-8740-4cff-b96b-650e961c6a60",
   "metadata": {},
   "outputs": [
    {
     "ename": "AttributeError",
     "evalue": "'FCRBM' object has no attribute 'gibbs_sampling_inference'",
     "output_type": "error",
     "traceback": [
      "\u001b[0;31m---------------------------------------------------------------------------\u001b[0m",
      "\u001b[0;31mAttributeError\u001b[0m                            Traceback (most recent call last)",
      "Cell \u001b[0;32mIn[9], line 29\u001b[0m\n\u001b[1;32m     25\u001b[0m u_input \u001b[38;5;241m=\u001b[39m tf\u001b[38;5;241m.\u001b[39mzeros(shape\u001b[38;5;241m=\u001b[39m(\u001b[38;5;241m1\u001b[39m, visible_dim), dtype\u001b[38;5;241m=\u001b[39mtf\u001b[38;5;241m.\u001b[39mfloat32)\n\u001b[1;32m     27\u001b[0m \u001b[38;5;66;03m# 2. Run the Gibbs sampling inference\u001b[39;00m\n\u001b[1;32m     28\u001b[0m \u001b[38;5;66;03m# We use a large number of steps (e.g., 5000) to ensure a stable output\u001b[39;00m\n\u001b[0;32m---> 29\u001b[0m generated_image \u001b[38;5;241m=\u001b[39m \u001b[43mfcrbm\u001b[49m\u001b[38;5;241;43m.\u001b[39;49m\u001b[43mgibbs_sampling_inference\u001b[49m(fcrbm, initial_image, u_input, y_input, steps\u001b[38;5;241m=\u001b[39m\u001b[38;5;241m5000\u001b[39m)\n\u001b[1;32m     31\u001b[0m \u001b[38;5;66;03m# 3. Reshape the flattened vector back into a 28x28 image\u001b[39;00m\n\u001b[1;32m     32\u001b[0m generated_image \u001b[38;5;241m=\u001b[39m tf\u001b[38;5;241m.\u001b[39mreshape(generated_image, (\u001b[38;5;241m28\u001b[39m, \u001b[38;5;241m28\u001b[39m))\n",
      "\u001b[0;31mAttributeError\u001b[0m: 'FCRBM' object has no attribute 'gibbs_sampling_inference'"
     ]
    },
    {
     "data": {
      "image/png": "[encoded data removed]",
      "text/plain": [
       "<Figure size 200x1000 with 10 Axes>"
      ]
     },
     "metadata": {},
     "output_type": "display_data"
    }
   ],
   "source": [
    "import matplotlib.pyplot as plt\n",
    "\n",
    "# Assuming your FCRBM model has already been trained\n",
    "\n",
    "# Define the parameters for the generation\n",
    "num_digits = 10\n",
    "visible_dim = 784\n",
    "style_dim = 10\n",
    "num_samples_per_digit = 1\n",
    "\n",
    "# Create a figure to display the generated digits\n",
    "fig, axes = plt.subplots(num_digits, num_samples_per_digit, figsize=(2, 10))\n",
    "\n",
    "# Generate one image for each digit (0-9)\n",
    "for digit in range(num_digits):\n",
    "    # 1. Prepare the input tensors for a single sample\n",
    "    # Initialize the visible layer with random noise\n",
    "    initial_image = tf.random.normal(shape=(1, visible_dim), mean=0, stddev=1, dtype=tf.float32)\n",
    "    \n",
    "    # Create the one-hot encoded style vector for the current digit\n",
    "    y_input = tf.keras.utils.to_categorical([digit], num_classes=style_dim)\n",
    "    y_input = tf.constant(y_input, dtype=tf.float32)\n",
    "    \n",
    "    # The history layer is all zeros for MNIST\n",
    "    u_input = tf.zeros(shape=(1, visible_dim), dtype=tf.float32)\n",
    "    \n",
    "    # 2. Run the Gibbs sampling inference\n",
    "    # We use a large number of steps (e.g., 5000) to ensure a stable output\n",
    "    generated_image = fcrbm.gibbs_sampling_inference(fcrbm, initial_image, u_input, y_input, steps=5000)\n",
    "    \n",
    "    # 3. Reshape the flattened vector back into a 28x28 image\n",
    "    generated_image = tf.reshape(generated_image, (28, 28))\n",
    "    \n",
    "    # 4. Display the generated image\n",
    "    ax = axes[digit]\n",
    "    ax.imshow(generated_image.numpy(), cmap='gray')\n",
    "    ax.set_title(f'Generated {digit}')\n",
    "    ax.axis('off')\n",
    "\n",
    "plt.tight_layout()\n",
    "plt.show()"
   ]
  },
  {
   "cell_type": "code",
   "execution_count": null,
   "id": "d72061bb-601c-4941-99ae-dead4150aa30",
   "metadata": {},
   "outputs": [],
   "source": []
  }
 ],
 "metadata": {
  "kernelspec": {
   "display_name": "FCRBM",
   "language": "python",
   "name": "fcrbm"
  },
  "language_info": {
   "codemirror_mode": {
    "name": "ipython",
    "version": 3
   },
   "file_extension": ".py",
   "mimetype": "text/x-python",
   "name": "python",
   "nbconvert_exporter": "python",
   "pygments_lexer": "ipython3",
   "version": "3.9.6"
  }
 },
 "nbformat": 4,
 "nbformat_minor": 5
}
